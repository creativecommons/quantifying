{
 "cells": [
  {
   "cell_type": "markdown",
   "metadata": {},
   "source": [
    "# Title"
   ]
  },
  {
   "cell_type": "code",
   "execution_count": 173,
   "metadata": {},
   "outputs": [
    {
     "name": "stderr",
     "output_type": "stream",
     "text": [
      "[nltk_data] Downloading package stopwords to\n",
      "[nltk_data]     C:\\Users\\brand\\AppData\\Roaming\\nltk_data...\n",
      "[nltk_data]   Package stopwords is already up-to-date!\n",
      "[nltk_data] Downloading package words to\n",
      "[nltk_data]     C:\\Users\\brand\\AppData\\Roaming\\nltk_data...\n",
      "[nltk_data]   Package words is already up-to-date!\n"
     ]
    }
   ],
   "source": [
    "import numpy as np\n",
    "import pandas as pd\n",
    "import nltk\n",
    "\n",
    "nltk.download(\"stopwords\")\n",
    "nltk.download(\"words\")\n",
    "import os\n",
    "import re\n",
    "import sqlalchemy"
   ]
  },
  {
   "cell_type": "markdown",
   "metadata": {},
   "source": [
    "## Dataset"
   ]
  },
  {
   "cell_type": "code",
   "execution_count": 174,
   "metadata": {},
   "outputs": [
    {
     "data": {
      "text/plain": [
       "<sqlalchemy.engine.base.Connection at 0x1a3ad2b1a80>"
      ]
     },
     "execution_count": 174,
     "metadata": {},
     "output_type": "execute_result"
    }
   ],
   "source": [
    "CWD = os.getcwd()\n",
    "dataset_engine = sqlalchemy.create_engine(\n",
    "    f\"sqlite:///{CWD}/modeling_dataset.db\"\n",
    ")\n",
    "dataset_engine.connect()"
   ]
  },
  {
   "cell_type": "code",
   "execution_count": 175,
   "metadata": {},
   "outputs": [
    {
     "data": {
      "text/html": [
       "<div>\n",
       "<style scoped>\n",
       "    .dataframe tbody tr th:only-of-type {\n",
       "        vertical-align: middle;\n",
       "    }\n",
       "\n",
       "    .dataframe tbody tr th {\n",
       "        vertical-align: top;\n",
       "    }\n",
       "\n",
       "    .dataframe thead th {\n",
       "        text-align: right;\n",
       "    }\n",
       "</style>\n",
       "<table border=\"1\" class=\"dataframe\">\n",
       "  <thead>\n",
       "    <tr style=\"text-align: right;\">\n",
       "      <th></th>\n",
       "      <th>type</th>\n",
       "      <th>name</th>\n",
       "      <th>tbl_name</th>\n",
       "      <th>rootpage</th>\n",
       "      <th>sql</th>\n",
       "    </tr>\n",
       "  </thead>\n",
       "  <tbody>\n",
       "    <tr>\n",
       "      <th>0</th>\n",
       "      <td>table</td>\n",
       "      <td>by</td>\n",
       "      <td>by</td>\n",
       "      <td>2</td>\n",
       "      <td>CREATE TABLE \"by\" (\\n\\t\"index\" BIGINT, \\n\\tlic...</td>\n",
       "    </tr>\n",
       "    <tr>\n",
       "      <th>1</th>\n",
       "      <td>table</td>\n",
       "      <td>by-sa</td>\n",
       "      <td>by-sa</td>\n",
       "      <td>28</td>\n",
       "      <td>CREATE TABLE \"by-sa\" (\\n\\t\"index\" BIGINT, \\n\\t...</td>\n",
       "    </tr>\n",
       "    <tr>\n",
       "      <th>2</th>\n",
       "      <td>table</td>\n",
       "      <td>by-nc</td>\n",
       "      <td>by-nc</td>\n",
       "      <td>410</td>\n",
       "      <td>CREATE TABLE \"by-nc\" (\\n\\t\"index\" BIGINT, \\n\\t...</td>\n",
       "    </tr>\n",
       "    <tr>\n",
       "      <th>3</th>\n",
       "      <td>table</td>\n",
       "      <td>by-nc-sa</td>\n",
       "      <td>by-nc-sa</td>\n",
       "      <td>436</td>\n",
       "      <td>CREATE TABLE \"by-nc-sa\" (\\n\\t\"index\" BIGINT, \\...</td>\n",
       "    </tr>\n",
       "    <tr>\n",
       "      <th>4</th>\n",
       "      <td>table</td>\n",
       "      <td>by-nd</td>\n",
       "      <td>by-nd</td>\n",
       "      <td>1223</td>\n",
       "      <td>CREATE TABLE \"by-nd\" (\\n\\t\"index\" BIGINT, \\n\\t...</td>\n",
       "    </tr>\n",
       "    <tr>\n",
       "      <th>5</th>\n",
       "      <td>table</td>\n",
       "      <td>by-nc-nd</td>\n",
       "      <td>by-nc-nd</td>\n",
       "      <td>1590</td>\n",
       "      <td>CREATE TABLE \"by-nc-nd\" (\\n\\t\"index\" BIGINT, \\...</td>\n",
       "    </tr>\n",
       "    <tr>\n",
       "      <th>6</th>\n",
       "      <td>table</td>\n",
       "      <td>publicdomain</td>\n",
       "      <td>publicdomain</td>\n",
       "      <td>803</td>\n",
       "      <td>CREATE TABLE publicdomain (\\n\\t\"index\" BIGINT,...</td>\n",
       "    </tr>\n",
       "  </tbody>\n",
       "</table>\n",
       "</div>"
      ],
      "text/plain": [
       "    type          name      tbl_name  rootpage  \\\n",
       "0  table            by            by         2   \n",
       "1  table         by-sa         by-sa        28   \n",
       "2  table         by-nc         by-nc       410   \n",
       "3  table      by-nc-sa      by-nc-sa       436   \n",
       "4  table         by-nd         by-nd      1223   \n",
       "5  table      by-nc-nd      by-nc-nd      1590   \n",
       "6  table  publicdomain  publicdomain       803   \n",
       "\n",
       "                                                 sql  \n",
       "0  CREATE TABLE \"by\" (\\n\\t\"index\" BIGINT, \\n\\tlic...  \n",
       "1  CREATE TABLE \"by-sa\" (\\n\\t\"index\" BIGINT, \\n\\t...  \n",
       "2  CREATE TABLE \"by-nc\" (\\n\\t\"index\" BIGINT, \\n\\t...  \n",
       "3  CREATE TABLE \"by-nc-sa\" (\\n\\t\"index\" BIGINT, \\...  \n",
       "4  CREATE TABLE \"by-nd\" (\\n\\t\"index\" BIGINT, \\n\\t...  \n",
       "5  CREATE TABLE \"by-nc-nd\" (\\n\\t\"index\" BIGINT, \\...  \n",
       "6  CREATE TABLE publicdomain (\\n\\t\"index\" BIGINT,...  "
      ]
     },
     "execution_count": 175,
     "metadata": {},
     "output_type": "execute_result"
    }
   ],
   "source": [
    "tables = pd.read_sql(\n",
    "    \"SELECT * FROM sqlite_master WHERE type = 'table'\", dataset_engine\n",
    ")\n",
    "tables"
   ]
  },
  {
   "cell_type": "code",
   "execution_count": 176,
   "metadata": {},
   "outputs": [
    {
     "data": {
      "text/html": [
       "<div>\n",
       "<style scoped>\n",
       "    .dataframe tbody tr th:only-of-type {\n",
       "        vertical-align: middle;\n",
       "    }\n",
       "\n",
       "    .dataframe tbody tr th {\n",
       "        vertical-align: top;\n",
       "    }\n",
       "\n",
       "    .dataframe thead th {\n",
       "        text-align: right;\n",
       "    }\n",
       "</style>\n",
       "<table border=\"1\" class=\"dataframe\">\n",
       "  <thead>\n",
       "    <tr style=\"text-align: right;\">\n",
       "      <th></th>\n",
       "      <th>license</th>\n",
       "      <th>url</th>\n",
       "      <th>contents</th>\n",
       "    </tr>\n",
       "  </thead>\n",
       "  <tbody>\n",
       "    <tr>\n",
       "      <th>2571</th>\n",
       "      <td>licenses/by-sa/2.5</td>\n",
       "      <td>https://wiki.osgeo.org/wiki/FOSS4G_2009_Press_...</td>\n",
       "      <td>FOSS4G 2009 Press Release 39 - OSGeo FOSS4G 20...</td>\n",
       "    </tr>\n",
       "    <tr>\n",
       "      <th>8563</th>\n",
       "      <td>publicdomain/mark/1.0</td>\n",
       "      <td>https://bmchealthservres.biomedcentral.com/art...</td>\n",
       "      <td>How can healthcare organizations implement pat...</td>\n",
       "    </tr>\n",
       "    <tr>\n",
       "      <th>1174</th>\n",
       "      <td>licenses/by/3.0</td>\n",
       "      <td>https://opensource.org/licenses/MIT</td>\n",
       "      <td>The MIT License | Open Source Initiative Skip ...</td>\n",
       "    </tr>\n",
       "    <tr>\n",
       "      <th>931</th>\n",
       "      <td>licenses/by/1.0</td>\n",
       "      <td>https://spiral.imperial.ac.uk/handle/10044/1/4...</td>\n",
       "      <td>Spiral: Circadian clocks and breast cancer Ski...</td>\n",
       "    </tr>\n",
       "    <tr>\n",
       "      <th>7098</th>\n",
       "      <td>licenses/by-nc-nd/3.0</td>\n",
       "      <td>https://forums.autodesk.com/t5/stingray-forum/...</td>\n",
       "      <td>Solved: creativecommons.org/licenses/by-nc-nd/...</td>\n",
       "    </tr>\n",
       "  </tbody>\n",
       "</table>\n",
       "</div>"
      ],
      "text/plain": [
       "                    license  \\\n",
       "2571     licenses/by-sa/2.5   \n",
       "8563  publicdomain/mark/1.0   \n",
       "1174        licenses/by/3.0   \n",
       "931         licenses/by/1.0   \n",
       "7098  licenses/by-nc-nd/3.0   \n",
       "\n",
       "                                                    url  \\\n",
       "2571  https://wiki.osgeo.org/wiki/FOSS4G_2009_Press_...   \n",
       "8563  https://bmchealthservres.biomedcentral.com/art...   \n",
       "1174                https://opensource.org/licenses/MIT   \n",
       "931   https://spiral.imperial.ac.uk/handle/10044/1/4...   \n",
       "7098  https://forums.autodesk.com/t5/stingray-forum/...   \n",
       "\n",
       "                                               contents  \n",
       "2571  FOSS4G 2009 Press Release 39 - OSGeo FOSS4G 20...  \n",
       "8563  How can healthcare organizations implement pat...  \n",
       "1174  The MIT License | Open Source Initiative Skip ...  \n",
       "931   Spiral: Circadian clocks and breast cancer Ski...  \n",
       "7098  Solved: creativecommons.org/licenses/by-nc-nd/...  "
      ]
     },
     "execution_count": 176,
     "metadata": {},
     "output_type": "execute_result"
    }
   ],
   "source": [
    "webpages_dataset = pd.concat(\n",
    "    [\n",
    "        pd.read_sql(f\"SELECT * FROM '{table_name}'\", dataset_engine)\n",
    "        for table_name in tables[\"name\"]\n",
    "    ]\n",
    ")\n",
    "webpages_dataset = (\n",
    "    webpages_dataset.loc[webpages_dataset[\"contents\"] != \"\", :]\n",
    "    .reset_index()\n",
    "    .drop([\"index\", \"title\", \"level_0\"], axis=1)\n",
    ")\n",
    "webpages_dataset.sample(5)"
   ]
  },
  {
   "cell_type": "code",
   "execution_count": 177,
   "metadata": {},
   "outputs": [
    {
     "data": {
      "text/html": [
       "<div>\n",
       "<style scoped>\n",
       "    .dataframe tbody tr th:only-of-type {\n",
       "        vertical-align: middle;\n",
       "    }\n",
       "\n",
       "    .dataframe tbody tr th {\n",
       "        vertical-align: top;\n",
       "    }\n",
       "\n",
       "    .dataframe thead th {\n",
       "        text-align: right;\n",
       "    }\n",
       "</style>\n",
       "<table border=\"1\" class=\"dataframe\">\n",
       "  <thead>\n",
       "    <tr style=\"text-align: right;\">\n",
       "      <th></th>\n",
       "      <th>url</th>\n",
       "      <th>license</th>\n",
       "      <th>contents</th>\n",
       "    </tr>\n",
       "  </thead>\n",
       "  <tbody>\n",
       "    <tr>\n",
       "      <th>count</th>\n",
       "      <td>1956</td>\n",
       "      <td>1956</td>\n",
       "      <td>1956</td>\n",
       "    </tr>\n",
       "    <tr>\n",
       "      <th>unique</th>\n",
       "      <td>1956</td>\n",
       "      <td>39</td>\n",
       "      <td>1898</td>\n",
       "    </tr>\n",
       "    <tr>\n",
       "      <th>top</th>\n",
       "      <td>http://agroportal.lirmm.fr/ontologies/PCO</td>\n",
       "      <td>licenses/by/4.0</td>\n",
       "      <td>403 Forbidden 403 Forbidden nginx</td>\n",
       "    </tr>\n",
       "    <tr>\n",
       "      <th>freq</th>\n",
       "      <td>1</td>\n",
       "      <td>136</td>\n",
       "      <td>25</td>\n",
       "    </tr>\n",
       "  </tbody>\n",
       "</table>\n",
       "</div>"
      ],
      "text/plain": [
       "                                              url          license  \\\n",
       "count                                        1956             1956   \n",
       "unique                                       1956               39   \n",
       "top     http://agroportal.lirmm.fr/ontologies/PCO  licenses/by/4.0   \n",
       "freq                                            1              136   \n",
       "\n",
       "                                 contents  \n",
       "count                                1956  \n",
       "unique                               1898  \n",
       "top     403 Forbidden 403 Forbidden nginx  \n",
       "freq                                   25  "
      ]
     },
     "execution_count": 177,
     "metadata": {},
     "output_type": "execute_result"
    }
   ],
   "source": [
    "webpages_dataset_deduplicate = (\n",
    "    webpages_dataset.groupby(\"url\").first().reset_index()\n",
    ")\n",
    "webpages_dataset_deduplicate.describe()"
   ]
  },
  {
   "cell_type": "code",
   "execution_count": 178,
   "metadata": {},
   "outputs": [
    {
     "data": {
      "text/html": [
       "<div>\n",
       "<style scoped>\n",
       "    .dataframe tbody tr th:only-of-type {\n",
       "        vertical-align: middle;\n",
       "    }\n",
       "\n",
       "    .dataframe tbody tr th {\n",
       "        vertical-align: top;\n",
       "    }\n",
       "\n",
       "    .dataframe thead th {\n",
       "        text-align: right;\n",
       "    }\n",
       "</style>\n",
       "<table border=\"1\" class=\"dataframe\">\n",
       "  <thead>\n",
       "    <tr style=\"text-align: right;\">\n",
       "      <th></th>\n",
       "      <th>license</th>\n",
       "      <th>Tool Typing</th>\n",
       "      <th>General Typing</th>\n",
       "      <th>Version</th>\n",
       "      <th>by</th>\n",
       "      <th>sa</th>\n",
       "      <th>nc</th>\n",
       "      <th>nd</th>\n",
       "      <th>neither</th>\n",
       "    </tr>\n",
       "  </thead>\n",
       "  <tbody>\n",
       "    <tr>\n",
       "      <th>0</th>\n",
       "      <td>licenses/by/1.0</td>\n",
       "      <td>licenses</td>\n",
       "      <td>by</td>\n",
       "      <td>1.0</td>\n",
       "      <td>True</td>\n",
       "      <td>False</td>\n",
       "      <td>False</td>\n",
       "      <td>False</td>\n",
       "      <td>False</td>\n",
       "    </tr>\n",
       "    <tr>\n",
       "      <th>14</th>\n",
       "      <td>licenses/by/2.0</td>\n",
       "      <td>licenses</td>\n",
       "      <td>by</td>\n",
       "      <td>2.0</td>\n",
       "      <td>True</td>\n",
       "      <td>False</td>\n",
       "      <td>False</td>\n",
       "      <td>False</td>\n",
       "      <td>False</td>\n",
       "    </tr>\n",
       "    <tr>\n",
       "      <th>27</th>\n",
       "      <td>licenses/by/2.1</td>\n",
       "      <td>licenses</td>\n",
       "      <td>by</td>\n",
       "      <td>2.1</td>\n",
       "      <td>True</td>\n",
       "      <td>False</td>\n",
       "      <td>False</td>\n",
       "      <td>False</td>\n",
       "      <td>False</td>\n",
       "    </tr>\n",
       "    <tr>\n",
       "      <th>33</th>\n",
       "      <td>licenses/by/2.5</td>\n",
       "      <td>licenses</td>\n",
       "      <td>by</td>\n",
       "      <td>2.5</td>\n",
       "      <td>True</td>\n",
       "      <td>False</td>\n",
       "      <td>False</td>\n",
       "      <td>False</td>\n",
       "      <td>False</td>\n",
       "    </tr>\n",
       "    <tr>\n",
       "      <th>39</th>\n",
       "      <td>licenses/by/3.0</td>\n",
       "      <td>licenses</td>\n",
       "      <td>by</td>\n",
       "      <td>3.0</td>\n",
       "      <td>True</td>\n",
       "      <td>False</td>\n",
       "      <td>False</td>\n",
       "      <td>False</td>\n",
       "      <td>False</td>\n",
       "    </tr>\n",
       "    <tr>\n",
       "      <th>45</th>\n",
       "      <td>licenses/by/4.0</td>\n",
       "      <td>licenses</td>\n",
       "      <td>by</td>\n",
       "      <td>4.0</td>\n",
       "      <td>True</td>\n",
       "      <td>False</td>\n",
       "      <td>False</td>\n",
       "      <td>False</td>\n",
       "      <td>False</td>\n",
       "    </tr>\n",
       "  </tbody>\n",
       "</table>\n",
       "</div>"
      ],
      "text/plain": [
       "            license Tool Typing General Typing  Version    by     sa     nc  \\\n",
       "0   licenses/by/1.0    licenses             by      1.0  True  False  False   \n",
       "14  licenses/by/2.0    licenses             by      2.0  True  False  False   \n",
       "27  licenses/by/2.1    licenses             by      2.1  True  False  False   \n",
       "33  licenses/by/2.5    licenses             by      2.5  True  False  False   \n",
       "39  licenses/by/3.0    licenses             by      3.0  True  False  False   \n",
       "45  licenses/by/4.0    licenses             by      4.0  True  False  False   \n",
       "\n",
       "       nd  neither  \n",
       "0   False    False  \n",
       "14  False    False  \n",
       "27  False    False  \n",
       "33  False    False  \n",
       "39  False    False  \n",
       "45  False    False  "
      ]
     },
     "execution_count": 178,
     "metadata": {},
     "output_type": "execute_result"
    }
   ],
   "source": [
    "import dataset_sampling\n",
    "\n",
    "license_map = dataset_sampling.get_license_map()\n",
    "license_ser = pd.concat([v for v in license_map.values()])\n",
    "license_ser_splits_df = license_ser.str.split(\"/\", expand=True)\n",
    "license_ser_splits_df = license_ser_splits_df.rename(\n",
    "    columns={\n",
    "        0: \"Tool Typing\",\n",
    "        1: \"General Typing\",\n",
    "        2: \"Version\",\n",
    "        3: \"Jurisdiction\",\n",
    "    }\n",
    ")\n",
    "license_ser_splits_df[\"General Typing\"] = license_ser_splits_df[\n",
    "    \"General Typing\"\n",
    "].str.replace(\"mark|zero\", \"publicdomain\", regex=True)\n",
    "license_ser_splits_df[\"General Typing\"] = license_ser_splits_df[\n",
    "    \"General Typing\"\n",
    "].str.replace(\"by-nd-nc\", \"by-nc-nd\", regex=True)\n",
    "license_ser_splits_df[\"Version\"] = license_ser_splits_df[\"Version\"].astype(\n",
    "    float\n",
    ")\n",
    "license_one_hot_encoding = pd.DataFrame()\n",
    "license_one_hot_encoding[\"by\"] = license_ser_splits_df[\n",
    "    \"General Typing\"\n",
    "].str.contains(\"by\")\n",
    "license_one_hot_encoding[\"sa\"] = license_ser_splits_df[\n",
    "    \"General Typing\"\n",
    "].str.contains(\"sa\")\n",
    "license_one_hot_encoding[\"nc\"] = license_ser_splits_df[\n",
    "    \"General Typing\"\n",
    "].str.contains(\"nc\")\n",
    "license_one_hot_encoding[\"nd\"] = license_ser_splits_df[\n",
    "    \"General Typing\"\n",
    "].str.contains(\"nd\")\n",
    "license_not_six_type = license_ser_splits_df[\"General Typing\"].str.contains(\n",
    "    \"by|sa|nc|nd\"\n",
    ")\n",
    "license_one_hot_encoding[\"neither\"] = ~(license_not_six_type.fillna(False))\n",
    "license_df = pd.concat(\n",
    "    [license_ser, license_ser_splits_df, license_one_hot_encoding], axis=1\n",
    ").rename(columns={0: \"license\"})\n",
    "license_df.head(6)"
   ]
  },
  {
   "cell_type": "code",
   "execution_count": 179,
   "metadata": {},
   "outputs": [
    {
     "data": {
      "text/html": [
       "<div>\n",
       "<style scoped>\n",
       "    .dataframe tbody tr th:only-of-type {\n",
       "        vertical-align: middle;\n",
       "    }\n",
       "\n",
       "    .dataframe tbody tr th {\n",
       "        vertical-align: top;\n",
       "    }\n",
       "\n",
       "    .dataframe thead th {\n",
       "        text-align: right;\n",
       "    }\n",
       "</style>\n",
       "<table border=\"1\" class=\"dataframe\">\n",
       "  <thead>\n",
       "    <tr style=\"text-align: right;\">\n",
       "      <th></th>\n",
       "      <th>url</th>\n",
       "      <th>license</th>\n",
       "      <th>contents</th>\n",
       "      <th>Tool Typing</th>\n",
       "      <th>General Typing</th>\n",
       "      <th>Version</th>\n",
       "      <th>by</th>\n",
       "      <th>sa</th>\n",
       "      <th>nc</th>\n",
       "      <th>nd</th>\n",
       "      <th>neither</th>\n",
       "    </tr>\n",
       "  </thead>\n",
       "  <tbody>\n",
       "    <tr>\n",
       "      <th>1121</th>\n",
       "      <td>https://jhoonline.biomedcentral.com/articles/1...</td>\n",
       "      <td>licenses/by/2.1</td>\n",
       "      <td>Hemolysis and hyperhomocysteinemia caused by c...</td>\n",
       "      <td>licenses</td>\n",
       "      <td>by</td>\n",
       "      <td>2.1</td>\n",
       "      <td>True</td>\n",
       "      <td>False</td>\n",
       "      <td>False</td>\n",
       "      <td>False</td>\n",
       "      <td>False</td>\n",
       "    </tr>\n",
       "    <tr>\n",
       "      <th>956</th>\n",
       "      <td>https://www.scottish-country-dancing-dictionar...</td>\n",
       "      <td>licenses/by-sa/1.0</td>\n",
       "      <td>Domino Five, Scottish Country Dance Instructio...</td>\n",
       "      <td>licenses</td>\n",
       "      <td>by-sa</td>\n",
       "      <td>1.0</td>\n",
       "      <td>True</td>\n",
       "      <td>True</td>\n",
       "      <td>False</td>\n",
       "      <td>False</td>\n",
       "      <td>False</td>\n",
       "    </tr>\n",
       "    <tr>\n",
       "      <th>1406</th>\n",
       "      <td>https://geoservice.dlr.de/catalogue/srv/api/re...</td>\n",
       "      <td>licenses/by-nc/1.0</td>\n",
       "      <td>3a597007-fe7d-4f02-8a7b-d77529558046 Dataserie...</td>\n",
       "      <td>licenses</td>\n",
       "      <td>by-nc</td>\n",
       "      <td>1.0</td>\n",
       "      <td>True</td>\n",
       "      <td>False</td>\n",
       "      <td>True</td>\n",
       "      <td>False</td>\n",
       "      <td>False</td>\n",
       "    </tr>\n",
       "    <tr>\n",
       "      <th>1446</th>\n",
       "      <td>https://docs.opengeospatial.org/cs/17-002r1/17...</td>\n",
       "      <td>licenses/by/1.0</td>\n",
       "      <td>OGC 17-002r1: OGC GeoRSS Encoding Standard Ope...</td>\n",
       "      <td>licenses</td>\n",
       "      <td>by</td>\n",
       "      <td>1.0</td>\n",
       "      <td>True</td>\n",
       "      <td>False</td>\n",
       "      <td>False</td>\n",
       "      <td>False</td>\n",
       "      <td>False</td>\n",
       "    </tr>\n",
       "    <tr>\n",
       "      <th>1165</th>\n",
       "      <td>https://textbooks.whatcom.edu/bus230/chapter/2...</td>\n",
       "      <td>licenses/by/2.1</td>\n",
       "      <td>2.1 Strategic Planning – Human Resource Manage...</td>\n",
       "      <td>licenses</td>\n",
       "      <td>by</td>\n",
       "      <td>2.1</td>\n",
       "      <td>True</td>\n",
       "      <td>False</td>\n",
       "      <td>False</td>\n",
       "      <td>False</td>\n",
       "      <td>False</td>\n",
       "    </tr>\n",
       "  </tbody>\n",
       "</table>\n",
       "</div>"
      ],
      "text/plain": [
       "                                                    url             license  \\\n",
       "1121  https://jhoonline.biomedcentral.com/articles/1...     licenses/by/2.1   \n",
       "956   https://www.scottish-country-dancing-dictionar...  licenses/by-sa/1.0   \n",
       "1406  https://geoservice.dlr.de/catalogue/srv/api/re...  licenses/by-nc/1.0   \n",
       "1446  https://docs.opengeospatial.org/cs/17-002r1/17...     licenses/by/1.0   \n",
       "1165  https://textbooks.whatcom.edu/bus230/chapter/2...     licenses/by/2.1   \n",
       "\n",
       "                                               contents Tool Typing  \\\n",
       "1121  Hemolysis and hyperhomocysteinemia caused by c...    licenses   \n",
       "956   Domino Five, Scottish Country Dance Instructio...    licenses   \n",
       "1406  3a597007-fe7d-4f02-8a7b-d77529558046 Dataserie...    licenses   \n",
       "1446  OGC 17-002r1: OGC GeoRSS Encoding Standard Ope...    licenses   \n",
       "1165  2.1 Strategic Planning – Human Resource Manage...    licenses   \n",
       "\n",
       "     General Typing  Version    by     sa     nc     nd  neither  \n",
       "1121             by      2.1  True  False  False  False    False  \n",
       "956           by-sa      1.0  True   True  False  False    False  \n",
       "1406          by-nc      1.0  True  False   True  False    False  \n",
       "1446             by      1.0  True  False  False  False    False  \n",
       "1165             by      2.1  True  False  False  False    False  "
      ]
     },
     "execution_count": 179,
     "metadata": {},
     "output_type": "execute_result"
    }
   ],
   "source": [
    "webpages_dataset_deduplicate = webpages_dataset_deduplicate.merge(\n",
    "    license_df, on=\"license\"\n",
    ")\n",
    "webpages_dataset_deduplicate.sample(5)"
   ]
  },
  {
   "cell_type": "code",
   "execution_count": 180,
   "metadata": {},
   "outputs": [
    {
     "data": {
      "text/html": [
       "<div>\n",
       "<style scoped>\n",
       "    .dataframe tbody tr th:only-of-type {\n",
       "        vertical-align: middle;\n",
       "    }\n",
       "\n",
       "    .dataframe tbody tr th {\n",
       "        vertical-align: top;\n",
       "    }\n",
       "\n",
       "    .dataframe thead th {\n",
       "        text-align: right;\n",
       "    }\n",
       "</style>\n",
       "<table border=\"1\" class=\"dataframe\">\n",
       "  <thead>\n",
       "    <tr style=\"text-align: right;\">\n",
       "      <th></th>\n",
       "      <th>url</th>\n",
       "      <th>license</th>\n",
       "      <th>contents</th>\n",
       "      <th>Tool Typing</th>\n",
       "      <th>Version</th>\n",
       "      <th>by</th>\n",
       "      <th>sa</th>\n",
       "      <th>nc</th>\n",
       "      <th>nd</th>\n",
       "      <th>neither</th>\n",
       "    </tr>\n",
       "    <tr>\n",
       "      <th>General Typing</th>\n",
       "      <th></th>\n",
       "      <th></th>\n",
       "      <th></th>\n",
       "      <th></th>\n",
       "      <th></th>\n",
       "      <th></th>\n",
       "      <th></th>\n",
       "      <th></th>\n",
       "      <th></th>\n",
       "      <th></th>\n",
       "    </tr>\n",
       "  </thead>\n",
       "  <tbody>\n",
       "    <tr>\n",
       "      <th>by</th>\n",
       "      <td>751</td>\n",
       "      <td>751</td>\n",
       "      <td>751</td>\n",
       "      <td>751</td>\n",
       "      <td>751</td>\n",
       "      <td>751</td>\n",
       "      <td>751</td>\n",
       "      <td>751</td>\n",
       "      <td>751</td>\n",
       "      <td>751</td>\n",
       "    </tr>\n",
       "    <tr>\n",
       "      <th>by-nc</th>\n",
       "      <td>242</td>\n",
       "      <td>242</td>\n",
       "      <td>242</td>\n",
       "      <td>242</td>\n",
       "      <td>242</td>\n",
       "      <td>242</td>\n",
       "      <td>242</td>\n",
       "      <td>242</td>\n",
       "      <td>242</td>\n",
       "      <td>242</td>\n",
       "    </tr>\n",
       "    <tr>\n",
       "      <th>by-nc-nd</th>\n",
       "      <td>117</td>\n",
       "      <td>117</td>\n",
       "      <td>117</td>\n",
       "      <td>117</td>\n",
       "      <td>117</td>\n",
       "      <td>117</td>\n",
       "      <td>117</td>\n",
       "      <td>117</td>\n",
       "      <td>117</td>\n",
       "      <td>117</td>\n",
       "    </tr>\n",
       "    <tr>\n",
       "      <th>by-nc-sa</th>\n",
       "      <td>201</td>\n",
       "      <td>201</td>\n",
       "      <td>201</td>\n",
       "      <td>201</td>\n",
       "      <td>201</td>\n",
       "      <td>201</td>\n",
       "      <td>201</td>\n",
       "      <td>201</td>\n",
       "      <td>201</td>\n",
       "      <td>201</td>\n",
       "    </tr>\n",
       "    <tr>\n",
       "      <th>by-nd</th>\n",
       "      <td>131</td>\n",
       "      <td>131</td>\n",
       "      <td>131</td>\n",
       "      <td>131</td>\n",
       "      <td>131</td>\n",
       "      <td>131</td>\n",
       "      <td>131</td>\n",
       "      <td>131</td>\n",
       "      <td>131</td>\n",
       "      <td>131</td>\n",
       "    </tr>\n",
       "    <tr>\n",
       "      <th>by-sa</th>\n",
       "      <td>280</td>\n",
       "      <td>280</td>\n",
       "      <td>280</td>\n",
       "      <td>280</td>\n",
       "      <td>280</td>\n",
       "      <td>280</td>\n",
       "      <td>280</td>\n",
       "      <td>280</td>\n",
       "      <td>280</td>\n",
       "      <td>280</td>\n",
       "    </tr>\n",
       "    <tr>\n",
       "      <th>publicdomain</th>\n",
       "      <td>234</td>\n",
       "      <td>234</td>\n",
       "      <td>234</td>\n",
       "      <td>234</td>\n",
       "      <td>234</td>\n",
       "      <td>234</td>\n",
       "      <td>234</td>\n",
       "      <td>234</td>\n",
       "      <td>234</td>\n",
       "      <td>234</td>\n",
       "    </tr>\n",
       "  </tbody>\n",
       "</table>\n",
       "</div>"
      ],
      "text/plain": [
       "                url  license  contents  Tool Typing  Version   by   sa   nc  \\\n",
       "General Typing                                                                \n",
       "by              751      751       751          751      751  751  751  751   \n",
       "by-nc           242      242       242          242      242  242  242  242   \n",
       "by-nc-nd        117      117       117          117      117  117  117  117   \n",
       "by-nc-sa        201      201       201          201      201  201  201  201   \n",
       "by-nd           131      131       131          131      131  131  131  131   \n",
       "by-sa           280      280       280          280      280  280  280  280   \n",
       "publicdomain    234      234       234          234      234  234  234  234   \n",
       "\n",
       "                 nd  neither  \n",
       "General Typing                \n",
       "by              751      751  \n",
       "by-nc           242      242  \n",
       "by-nc-nd        117      117  \n",
       "by-nc-sa        201      201  \n",
       "by-nd           131      131  \n",
       "by-sa           280      280  \n",
       "publicdomain    234      234  "
      ]
     },
     "execution_count": 180,
     "metadata": {},
     "output_type": "execute_result"
    }
   ],
   "source": [
    "webpages_dataset_deduplicate.groupby(\"General Typing\").count()"
   ]
  },
  {
   "cell_type": "code",
   "execution_count": 181,
   "metadata": {},
   "outputs": [],
   "source": [
    "# webpages_dataset_deduplicate[\"contents\"] = webpages_dataset_deduplicate[\"contents\"].apply(lambda x: x[:3000])"
   ]
  },
  {
   "cell_type": "code",
   "execution_count": 182,
   "metadata": {},
   "outputs": [],
   "source": [
    "import string\n",
    "\n",
    "\n",
    "def remove_unicodes(ser):\n",
    "    return ser.map(lambda x: \" \".join([c for c in x if c in string.printable]))\n",
    "\n",
    "\n",
    "def has_unicodes(s, tolerance=30):\n",
    "    return np.sum([c not in string.printable for c in s]) <= tolerance\n",
    "\n",
    "\n",
    "def not_well_decrypted(s, tolerance=25):\n",
    "    words = re.split(r\"\\s+\", s)\n",
    "    return np.sum([len(c) == 1 for c in words]) <= tolerance\n",
    "\n",
    "\n",
    "def remove_unicodes_aggressive(df, field_name=\"contents\"):\n",
    "    df_remove_unicode = df.loc[df[field_name].apply(has_unicodes), :]\n",
    "    return df_remove_unicode"
   ]
  },
  {
   "cell_type": "code",
   "execution_count": 183,
   "metadata": {},
   "outputs": [],
   "source": [
    "# Less Aggressive pruning\n",
    "# webpages_dataset_deduplicate[\"parsed_contents\"] = remove_unicodes(webpages_dataset_deduplicate[\"contents\"])\n",
    "# webpages_dataset_deduplicate.loc[1149, [\"contents\", \"parsed_contents\"]]\n",
    "\n",
    "# More Aggressive pruning\n",
    "webpages_dataset_deduplicate = remove_unicodes_aggressive(\n",
    "    webpages_dataset_deduplicate\n",
    ")"
   ]
  },
  {
   "cell_type": "code",
   "execution_count": 184,
   "metadata": {},
   "outputs": [],
   "source": [
    "def remove_less_than_c_chars(s, tolerance=2):\n",
    "    words = re.split(r\"\\s+\", s)\n",
    "    return \" \".join([c for c in words if len(c) > tolerance])\n",
    "\n",
    "\n",
    "def remove_more_than_c_chars(s, tolerance=15):\n",
    "    words = re.split(r\"\\s+\", s)\n",
    "    return \" \".join([c for c in words if len(c) <= tolerance])\n",
    "\n",
    "\n",
    "def remove_non_english(s):\n",
    "    words = set(nltk.corpus.words.words())\n",
    "    return \" \".join(w for w in re.split(r\"\\s+\", s) if w in words)\n",
    "\n",
    "\n",
    "def remove_web_urls(s):\n",
    "    return re.sub(\n",
    "        r\"[-a-zA-Z0-9@:%._\\+~#=]{1,256}\\.[a-zA-Z0-9()]{1,6}\\b([-a-zA-Z0-9()@:%_\\+.~#?&//=]*)\",\n",
    "        \" \",\n",
    "        s,\n",
    "    )\n",
    "\n",
    "\n",
    "def clear_stopwords(s):\n",
    "    return \" \".join(\n",
    "        [\n",
    "            word\n",
    "            for word in re.split(r\"\\s+\", s)\n",
    "            if word.lower() not in nltk.corpus.stopwords.words(\"english\")\n",
    "        ]\n",
    "    )\n",
    "\n",
    "\n",
    "def clear_stopwords_series(ser):\n",
    "    return ser.apply(clear_stopwords)\n",
    "\n",
    "\n",
    "def overall_cleaning(ser):\n",
    "    cleaned_ser = ser.str.lower()\n",
    "    cleaned_ser = cleaned_ser.apply(remove_web_urls)\n",
    "    cleaned_ser = cleaned_ser.str.replace(r\"[^A-Za-z\\s]\", \" \", regex=True)\n",
    "    cleaned_ser = cleaned_ser.str.replace(r\"\\s+\", \" \", regex=True)\n",
    "    cleaned_ser = cleaned_ser.apply(clear_stopwords)\n",
    "    cleaned_ser = cleaned_ser.apply(remove_less_than_c_chars)\n",
    "    cleaned_ser = cleaned_ser.apply(remove_non_english)\n",
    "    cleaned_ser = cleaned_ser.apply(clear_stopwords)\n",
    "    # cleaned_ser = cleaned_ser.apply(remove_more_than_c_chars)\n",
    "    return cleaned_ser\n",
    "\n",
    "\n",
    "webpages_dataset_deduplicate[\"cleaned_contents\"] = overall_cleaning(\n",
    "    webpages_dataset_deduplicate[\"contents\"]\n",
    ")\n",
    "webpages_dataset_deduplicate = webpages_dataset_deduplicate.loc[\n",
    "    webpages_dataset_deduplicate[\"cleaned_contents\"].str.len() >= 500, :\n",
    "]\n",
    "# webpages_dataset_deduplicate[\"parsed_cleaned_contents\"] = clear_stopwords_series(webpages_dataset_deduplicate[\"cleaned_contents\"])"
   ]
  },
  {
   "cell_type": "code",
   "execution_count": 185,
   "metadata": {},
   "outputs": [
    {
     "name": "stdout",
     "output_type": "stream",
     "text": [
      "Entry content:\n",
      "natural color photograph right arm posterior view showing artery vein nerve long head triceps muscle retracted skip main content search two million university southern digital library surgical anatomy teaching collection natural color photograph right arm posterior view showing artery vein nerve long head triceps muscle retracted image natural color photograph right arm posterior view showing artery vein view source image contributor get citation recommend include following information citation look item additional data may want include title n\n",
      "\n",
      "Entry content:\n",
      "generalized granuloma relapse non king home search browse account digital commons network skip main content safety index digital commons east state university home account previous next home faculty works works faculty works title generalized granuloma relapse non lymphoma creator king east state university east state university follow east state university earl brown east state university east state university document type article publication date copyright statement academy dermatology open access article license creative commons license wor\n",
      "\n",
      "Entry content:\n",
      "canvas search submit search query forum donate canvas canvas bind draw interactivity let say building data visualization may hit ceiling try display several thousand time browser may start puff weight dom well comes canvas rescue much faster solve browser puffing may quickly find canvas works bit differently especially comes drawing interactivity fear complicated experience building approaching different renderer help tremendously tutorial built already covered canvas well learned three heart recommend working canvas irene needles canvas addict\n",
      "\n",
      "Entry content:\n",
      "special shooting star news car culture car car car famous fast military electric racing muscle privacy policy follow follow home military special shooting star special shooting star mike let take closer look first fighter jet military history via shooting star unrivaled speed first jet fighter used united army air team led talented kelly shooting star prototype exactly days record time seven days ahead schedule second prototype designed host general electric engine test flight proving unimpressive team came third prototype much like negative ex\n",
      "\n",
      "Entry content:\n",
      "evaluation influence substrate mechanics matrix yang home search browse account digital commons network skip main content academic works home contact account previous next home city college research research title evaluation influence substrate mechanics matrix human chondrocyte transplantation yang city college follow city college city college follow document type article publication date abstract matrix chondrocyte transplantation great interest treatment cartilage however matrix cartilage tissue integration recovery fully understood objectiv\n",
      "\n"
     ]
    }
   ],
   "source": [
    "for row in webpages_dataset_deduplicate[\"cleaned_contents\"].sample(5):\n",
    "    print(f\"Entry content:\\n{row[:550]}\\n\")"
   ]
  },
  {
   "cell_type": "markdown",
   "metadata": {},
   "source": [
    "## Preprocessing"
   ]
  },
  {
   "cell_type": "code",
   "execution_count": 186,
   "metadata": {},
   "outputs": [],
   "source": [
    "from sklearn.model_selection import train_test_split\n",
    "from sklearn.decomposition import TruncatedSVD\n",
    "from sklearn.linear_model import LogisticRegression, LogisticRegressionCV\n",
    "from sklearn.naive_bayes import MultinomialNB\n",
    "from sklearn.svm import SVC\n",
    "from sklearn.ensemble import RandomForestClassifier, GradientBoostingClassifier\n",
    "from sklearn.feature_extraction.text import TfidfVectorizer, CountVectorizer\n",
    "from sklearn.metrics import top_k_accuracy_score\n",
    "from sklearn.decomposition import PCA\n",
    "import re\n",
    "from imblearn.over_sampling import SMOTE"
   ]
  },
  {
   "cell_type": "code",
   "execution_count": 187,
   "metadata": {},
   "outputs": [
    {
     "data": {
      "text/plain": [
       "'creativecommons org licenses by sa  '"
      ]
     },
     "execution_count": 187,
     "metadata": {},
     "output_type": "execute_result"
    }
   ],
   "source": [
    "def tokenize_url(url):\n",
    "    return \" \".join(re.split(r\"[_/\\.-]\", re.sub(r\"\\d\", \"\", url)))\n",
    "\n",
    "\n",
    "tokenize_url(\"creativecommons.org/licenses/by-sa/4.0\")"
   ]
  },
  {
   "cell_type": "code",
   "execution_count": 188,
   "metadata": {},
   "outputs": [],
   "source": [
    "dataset = webpages_dataset_deduplicate.copy()\n",
    "dataset[\"token_url\"] = dataset[\"url\"].apply(tokenize_url)\n",
    "dataset[\"train_text\"] = (\n",
    "    dataset[\"token_url\"] + \" \" + dataset[\"cleaned_contents\"]\n",
    ")"
   ]
  },
  {
   "cell_type": "markdown",
   "metadata": {},
   "source": [
    "## Modeling"
   ]
  },
  {
   "cell_type": "code",
   "execution_count": 189,
   "metadata": {},
   "outputs": [],
   "source": [
    "def extract_text_features_tfidf(\n",
    "    train, test, text_field=\"train_text\", svd=True\n",
    "):\n",
    "    tfidf_vectorizer = TfidfVectorizer(\n",
    "        use_idf=True,\n",
    "        stop_words=\"english\",\n",
    "        max_features=6500,\n",
    "        max_df=0.95,\n",
    "        sublinear_tf=True,\n",
    "        ngram_range=(1, 3),\n",
    "    )\n",
    "    tfidf_vectorizer.fit(train[text_field].values)\n",
    "    train_vectorized = tfidf_vectorizer.transform(train[text_field].values)\n",
    "    test_vectorized = tfidf_vectorizer.transform(test[text_field].values)\n",
    "    svd_train, svd_test = None, None\n",
    "    if svd:\n",
    "        tsvd = TruncatedSVD(n_components=100)\n",
    "        tsvd.fit(train_vectorized)\n",
    "        svd_train = tsvd.transform(train_vectorized)\n",
    "        svd_test = tsvd.transform(test_vectorized)\n",
    "    return train_vectorized, test_vectorized, svd_train, svd_test\n",
    "\n",
    "\n",
    "# tolerance 1 -> 7500, 500"
   ]
  },
  {
   "cell_type": "code",
   "execution_count": 190,
   "metadata": {},
   "outputs": [],
   "source": [
    "model_dataset = pd.DataFrame()\n",
    "dataset_counts = (\n",
    "    dataset.groupby(\"General Typing\")[[\"url\"]].count().reset_index()[\"url\"]\n",
    ")\n",
    "license_dict = {\n",
    "    \"by\": 0,\n",
    "    \"by-nc\": 1,\n",
    "    \"by-nc-nd\": 2,\n",
    "    \"by-nc-sa\": 3,\n",
    "    \"by-nd\": 4,\n",
    "    \"by-sa\": 5,\n",
    "    \"publicdomain\": 6,\n",
    "}\n",
    "\n",
    "model_dataset[\"train_text\"], model_dataset[\"General Typing\"] = (\n",
    "    dataset[\"cleaned_contents\"],\n",
    "    dataset[\"General Typing\"],\n",
    ")\n",
    "model_dataset[\"General Typing\"].replace(license_dict, inplace=True)\n",
    "\n",
    "training_set, test_set = train_test_split(\n",
    "    model_dataset, test_size=0.2, random_state=10\n",
    ")\n",
    "Y_train = training_set[\"General Typing\"].values\n",
    "Y_test = test_set[\"General Typing\"].values\n",
    "X_train, X_test, svd_X_train, svd_X_test = extract_text_features_tfidf(\n",
    "    training_set, test_set\n",
    ")\n",
    "smote_strat = {\n",
    "    k: int(\n",
    "        0.8\n",
    "        * min(\n",
    "            round(np.mean(dataset_counts.values)), dataset_counts.iloc[k] * 1.8\n",
    "        )\n",
    "    )\n",
    "    for k in range(1, 7)\n",
    "}\n",
    "svd_Y_train = Y_train.copy()\n",
    "\n",
    "smote = SMOTE(sampling_strategy=smote_strat)\n",
    "X_train, Y_train = smote.fit_resample(X_train, Y_train)\n",
    "smote_svd = SMOTE(sampling_strategy=smote_strat)\n",
    "svd_X_train, svd_Y_train = smote_svd.fit_resample(svd_X_train, svd_Y_train)"
   ]
  },
  {
   "cell_type": "markdown",
   "metadata": {},
   "source": [
    "### log reg"
   ]
  },
  {
   "cell_type": "code",
   "execution_count": 162,
   "metadata": {},
   "outputs": [],
   "source": [
    "model_logreg = LogisticRegression(\n",
    "    verbose=0, penalty=\"l2\", solver=\"liblinear\", class_weight=\"balanced\", C=0.1\n",
    ").fit(X_train, Y_train)"
   ]
  },
  {
   "cell_type": "code",
   "execution_count": 163,
   "metadata": {},
   "outputs": [
    {
     "name": "stdout",
     "output_type": "stream",
     "text": [
      "0.5948148148148148 \n",
      " 0.8688888888888889 \n",
      " 0.9466666666666667 \n",
      "==============\n",
      " 0.49825783972125437 \n",
      " 0.7142857142857143 \n",
      " 0.8083623693379791\n"
     ]
    }
   ],
   "source": [
    "print(\n",
    "    top_k_accuracy_score(Y_train, model_logreg.predict_proba(X_train), k=1),\n",
    "    \"\\n\",\n",
    "    top_k_accuracy_score(Y_train, model_logreg.predict_proba(X_train), k=2),\n",
    "    \"\\n\",\n",
    "    top_k_accuracy_score(Y_train, model_logreg.predict_proba(X_train), k=3),\n",
    "    \"\\n==============\\n\",\n",
    "    top_k_accuracy_score(Y_test, model_logreg.predict_proba(X_test), k=1),\n",
    "    \"\\n\",\n",
    "    top_k_accuracy_score(Y_test, model_logreg.predict_proba(X_test), k=2),\n",
    "    \"\\n\",\n",
    "    top_k_accuracy_score(Y_test, model_logreg.predict_proba(X_test), k=3),\n",
    ")"
   ]
  },
  {
   "cell_type": "markdown",
   "metadata": {},
   "source": [
    "### SVM"
   ]
  },
  {
   "cell_type": "code",
   "execution_count": 164,
   "metadata": {},
   "outputs": [
    {
     "name": "stdout",
     "output_type": "stream",
     "text": [
      "[LibSVM]"
     ]
    }
   ],
   "source": [
    "model_svc = SVC(\n",
    "    C=0.5,\n",
    "    verbose=1,\n",
    "    probability=True,\n",
    "    kernel=\"poly\",\n",
    "    degree=1,\n",
    "    class_weight=\"balanced\",\n",
    ").fit(svd_X_train, svd_Y_train)"
   ]
  },
  {
   "cell_type": "code",
   "execution_count": 165,
   "metadata": {},
   "outputs": [
    {
     "name": "stdout",
     "output_type": "stream",
     "text": [
      "0.542962962962963 \n",
      " 0.7518518518518519 \n",
      " 0.8674074074074074 \n",
      "==============\n",
      " 0.4878048780487805 \n",
      " 0.6794425087108014 \n",
      " 0.8048780487804879\n"
     ]
    }
   ],
   "source": [
    "print(\n",
    "    top_k_accuracy_score(\n",
    "        svd_Y_train, model_svc.predict_proba(svd_X_train), k=1\n",
    "    ),\n",
    "    \"\\n\",\n",
    "    top_k_accuracy_score(\n",
    "        svd_Y_train, model_svc.predict_proba(svd_X_train), k=2\n",
    "    ),\n",
    "    \"\\n\",\n",
    "    top_k_accuracy_score(\n",
    "        svd_Y_train, model_svc.predict_proba(svd_X_train), k=3\n",
    "    ),\n",
    "    \"\\n==============\\n\",\n",
    "    top_k_accuracy_score(Y_test, model_svc.predict_proba(svd_X_test), k=1),\n",
    "    \"\\n\",\n",
    "    top_k_accuracy_score(Y_test, model_svc.predict_proba(svd_X_test), k=2),\n",
    "    \"\\n\",\n",
    "    top_k_accuracy_score(Y_test, model_svc.predict_proba(svd_X_test), k=3),\n",
    ")"
   ]
  },
  {
   "cell_type": "markdown",
   "metadata": {},
   "source": [
    "### MultiNB"
   ]
  },
  {
   "cell_type": "code",
   "execution_count": 166,
   "metadata": {},
   "outputs": [],
   "source": [
    "model_mnb = MultinomialNB(fit_prior=True, alpha=10).fit(X_train, Y_train)"
   ]
  },
  {
   "cell_type": "code",
   "execution_count": 167,
   "metadata": {},
   "outputs": [
    {
     "name": "stdout",
     "output_type": "stream",
     "text": [
      "0.3333333333333333 \n",
      " 0.7214814814814815 \n",
      " 0.8192592592592592 \n",
      "==============\n",
      " 0.40069686411149824 \n",
      " 0.6724738675958188 \n",
      " 0.7665505226480837\n"
     ]
    }
   ],
   "source": [
    "print(\n",
    "    top_k_accuracy_score(Y_train, model_mnb.predict_proba(X_train), k=1),\n",
    "    \"\\n\",\n",
    "    top_k_accuracy_score(Y_train, model_mnb.predict_proba(X_train), k=2),\n",
    "    \"\\n\",\n",
    "    top_k_accuracy_score(Y_train, model_mnb.predict_proba(X_train), k=3),\n",
    "    \"\\n==============\\n\",\n",
    "    top_k_accuracy_score(Y_test, model_mnb.predict_proba(X_test), k=1),\n",
    "    \"\\n\",\n",
    "    top_k_accuracy_score(Y_test, model_mnb.predict_proba(X_test), k=2),\n",
    "    \"\\n\",\n",
    "    top_k_accuracy_score(Y_test, model_mnb.predict_proba(X_test), k=3),\n",
    ")"
   ]
  },
  {
   "cell_type": "markdown",
   "metadata": {},
   "source": [
    "### What Berkeley does to an RF"
   ]
  },
  {
   "cell_type": "code",
   "execution_count": 168,
   "metadata": {},
   "outputs": [],
   "source": [
    "model_rfc = RandomForestClassifier(\n",
    "    class_weight=\"balanced_subsample\", n_estimators=100, random_state=1\n",
    ").fit(X_train, Y_train)"
   ]
  },
  {
   "cell_type": "code",
   "execution_count": 169,
   "metadata": {},
   "outputs": [
    {
     "name": "stdout",
     "output_type": "stream",
     "text": [
      "0.9977777777777778 \n",
      " 0.9992592592592593 \n",
      " 1.0 \n",
      "==============\n",
      " 0.5296167247386759 \n",
      " 0.7421602787456446 \n",
      " 0.8327526132404182\n"
     ]
    }
   ],
   "source": [
    "print(\n",
    "    top_k_accuracy_score(Y_train, model_rfc.predict_proba(X_train), k=1),\n",
    "    \"\\n\",\n",
    "    top_k_accuracy_score(Y_train, model_rfc.predict_proba(X_train), k=2),\n",
    "    \"\\n\",\n",
    "    top_k_accuracy_score(Y_train, model_rfc.predict_proba(X_train), k=3),\n",
    "    \"\\n==============\\n\",\n",
    "    top_k_accuracy_score(Y_test, model_rfc.predict_proba(X_test), k=1),\n",
    "    \"\\n\",\n",
    "    top_k_accuracy_score(Y_test, model_rfc.predict_proba(X_test), k=2),\n",
    "    \"\\n\",\n",
    "    top_k_accuracy_score(Y_test, model_rfc.predict_proba(X_test), k=3),\n",
    ")"
   ]
  },
  {
   "cell_type": "markdown",
   "metadata": {},
   "source": [
    "### GBC???? Golden Bear Cafe? No, Gradient Boosting Classifier."
   ]
  },
  {
   "cell_type": "code",
   "execution_count": 170,
   "metadata": {},
   "outputs": [],
   "source": [
    "model_gbc = GradientBoostingClassifier(n_estimators=50, random_state=1).fit(\n",
    "    X_train, Y_train\n",
    ")"
   ]
  },
  {
   "cell_type": "code",
   "execution_count": 171,
   "metadata": {},
   "outputs": [
    {
     "name": "stdout",
     "output_type": "stream",
     "text": [
      "0.9022222222222223 \n",
      " 0.9859259259259259 \n",
      " 0.997037037037037 \n",
      "==============\n",
      " 0.5087108013937283 \n",
      " 0.6933797909407665 \n",
      " 0.794425087108014\n"
     ]
    }
   ],
   "source": [
    "print(\n",
    "    top_k_accuracy_score(Y_train, model_gbc.predict_proba(X_train), k=1),\n",
    "    \"\\n\",\n",
    "    top_k_accuracy_score(Y_train, model_gbc.predict_proba(X_train), k=2),\n",
    "    \"\\n\",\n",
    "    top_k_accuracy_score(Y_train, model_gbc.predict_proba(X_train), k=3),\n",
    "    \"\\n==============\\n\",\n",
    "    top_k_accuracy_score(Y_test, model_gbc.predict_proba(X_test), k=1),\n",
    "    \"\\n\",\n",
    "    top_k_accuracy_score(Y_test, model_gbc.predict_proba(X_test), k=2),\n",
    "    \"\\n\",\n",
    "    top_k_accuracy_score(Y_test, model_gbc.predict_proba(X_test), k=3),\n",
    ")"
   ]
  },
  {
   "cell_type": "markdown",
   "metadata": {},
   "source": [
    "### Tensorflow"
   ]
  },
  {
   "cell_type": "code",
   "execution_count": 374,
   "metadata": {},
   "outputs": [],
   "source": [
    "import tensorflow as tf\n",
    "import tensorflow_hub as hub\n",
    "import tensorflow_text as text\n",
    "from official.nlp import optimization  # to create AdamW optimizer\n",
    "\n",
    "import matplotlib.pyplot as plt\n",
    "\n",
    "tf.get_logger().setLevel(\"ERROR\")"
   ]
  },
  {
   "cell_type": "code",
   "execution_count": 375,
   "metadata": {},
   "outputs": [],
   "source": [
    "tfhub_handle_preprocess = (\n",
    "    \"https://tfhub.dev/tensorflow/bert_en_uncased_preprocess/2\"\n",
    ")\n",
    "tfhub_handle_encoder = (\n",
    "    \"https://tfhub.dev/tensorflow/small_bert/bert_en_uncased_L-4_H-512_A-8/1\"\n",
    ")\n",
    "bert_preprocess_model = hub.KerasLayer(tfhub_handle_preprocess)\n",
    "bert_model = hub.KerasLayer(tfhub_handle_encoder)"
   ]
  },
  {
   "cell_type": "code",
   "execution_count": 941,
   "metadata": {},
   "outputs": [],
   "source": [
    "AUTOTUNE = tf.data.AUTOTUNE\n",
    "BATCH_SIZE = 8\n",
    "TRAINING_RATIO = 0.8\n",
    "\n",
    "model_dataset = dataset.loc[:, [\"cleaned_contents\", \"General Typing\"]]\n",
    "model_dataset[\"General Typing\"].replace(license_dict, inplace=True)\n",
    "\n",
    "model_dataset_copy = model_dataset[\n",
    "    ~model_dataset[\"General Typing\"].isin([2, 4])\n",
    "]\n",
    "\n",
    "target = model_dataset_copy.pop(\"General Typing\")\n",
    "# dataset_tensor = tf.convert_to_tensor(model_dataset, dtype=np.string_)\n",
    "tf_dataset = tf.data.Dataset.from_tensor_slices(\n",
    "    (model_dataset_copy, target)\n",
    ").shuffle(50)\n",
    "train_dataset = tf_dataset.take(int(TRAINING_RATIO * len(tf_dataset)))\n",
    "test_dataset = tf_dataset.skip(int(TRAINING_RATIO * len(tf_dataset)))\n",
    "val_dataset = test_dataset.skip(\n",
    "    int((1 - TRAINING_RATIO) * 0.5 * len(tf_dataset))\n",
    ")\n",
    "test_dataset = test_dataset.take(\n",
    "    int((1 - TRAINING_RATIO) * 0.5 * len(tf_dataset))\n",
    ")\n",
    "\n",
    "train_dataset = train_dataset.batch(BATCH_SIZE)\n",
    "val_dataset = val_dataset.batch(BATCH_SIZE)\n",
    "test_dataset = test_dataset.batch(BATCH_SIZE)"
   ]
  },
  {
   "cell_type": "code",
   "execution_count": 946,
   "metadata": {},
   "outputs": [],
   "source": [
    "def build_classifier_model():\n",
    "    text_input = tf.keras.layers.Input(\n",
    "        shape=(), dtype=tf.string, name=\"parsed_cleaned_contents\"\n",
    "    )\n",
    "    preprocessing_layer = hub.KerasLayer(\n",
    "        tfhub_handle_preprocess, name=\"preprocessing\"\n",
    "    )\n",
    "    encoder_inputs = preprocessing_layer(text_input)\n",
    "    encoder = hub.KerasLayer(\n",
    "        tfhub_handle_encoder, trainable=True, name=\"BERT_encoder\"\n",
    "    )\n",
    "    outputs = encoder(encoder_inputs)\n",
    "    net = outputs[\"pooled_output\"]\n",
    "    net = tf.keras.layers.Dropout(0.3)(net)\n",
    "    net = tf.keras.layers.Dense(1, activation=None, name=\"classifier\")(net)\n",
    "    return tf.keras.Model(text_input, net)"
   ]
  },
  {
   "cell_type": "code",
   "execution_count": 947,
   "metadata": {},
   "outputs": [],
   "source": [
    "from tensorflow_addons.metrics import F1Score"
   ]
  },
  {
   "cell_type": "code",
   "execution_count": 948,
   "metadata": {},
   "outputs": [],
   "source": [
    "epochs = 10\n",
    "steps_per_epoch = tf.data.experimental.cardinality(train_dataset).numpy()\n",
    "num_train_steps = steps_per_epoch * epochs\n",
    "num_warmup_steps = int(0.1 * num_train_steps)\n",
    "\n",
    "init_lr = 3e-6\n",
    "optimizer = optimization.create_optimizer(\n",
    "    init_lr=init_lr,\n",
    "    num_train_steps=num_train_steps,\n",
    "    num_warmup_steps=num_warmup_steps,\n",
    "    optimizer_type=\"adamw\",\n",
    ")"
   ]
  },
  {
   "cell_type": "code",
   "execution_count": 949,
   "metadata": {},
   "outputs": [
    {
     "name": "stdout",
     "output_type": "stream",
     "text": [
      "Epoch 1/10\n",
      "135/135 [==============================] - 129s 905ms/step - loss: 2.5825e-07 - accuracy: 0.3113 - f1_score: 1.3684 - val_loss: 3.3467e-07 - val_accuracy: 0.1926 - val_f1_score: 1.4747\n",
      "Epoch 2/10\n",
      "135/135 [==============================] - 119s 885ms/step - loss: 2.5936e-07 - accuracy: 0.2955 - f1_score: 1.3702 - val_loss: 3.4085e-07 - val_accuracy: 0.2000 - val_f1_score: 1.4818\n",
      "Epoch 3/10\n",
      "135/135 [==============================] - 115s 855ms/step - loss: 2.5847e-07 - accuracy: 0.2974 - f1_score: 1.3687 - val_loss: 3.4438e-07 - val_accuracy: 0.2148 - val_f1_score: 1.4857\n",
      "Epoch 4/10\n",
      "130/135 [===========================>..] - ETA: 4s - loss: 2.6536e-07 - accuracy: 0.2769 - f1_score: 1.3800"
     ]
    },
    {
     "ename": "KeyboardInterrupt",
     "evalue": "",
     "output_type": "error",
     "traceback": [
      "\u001b[1;31m---------------------------------------------------------------------------\u001b[0m",
      "\u001b[1;31mKeyboardInterrupt\u001b[0m                         Traceback (most recent call last)",
      "\u001b[1;32mc:\\Users\\brand\\Desktop\\UCBF22\\DSD Fall 2022\\model_sampling\\model_dev.ipynb Cell 45\u001b[0m in \u001b[0;36m<cell line: 7>\u001b[1;34m()\u001b[0m\n\u001b[0;32m      <a href='vscode-notebook-cell:/c%3A/Users/brand/Desktop/UCBF22/DSD%20Fall%202022/model_sampling/model_dev.ipynb#X52sZmlsZQ%3D%3D?line=0'>1</a>\u001b[0m classifier_model \u001b[39m=\u001b[39m build_classifier_model()\n\u001b[0;32m      <a href='vscode-notebook-cell:/c%3A/Users/brand/Desktop/UCBF22/DSD%20Fall%202022/model_sampling/model_dev.ipynb#X52sZmlsZQ%3D%3D?line=1'>2</a>\u001b[0m classifier_model\u001b[39m.\u001b[39mcompile(\n\u001b[0;32m      <a href='vscode-notebook-cell:/c%3A/Users/brand/Desktop/UCBF22/DSD%20Fall%202022/model_sampling/model_dev.ipynb#X52sZmlsZQ%3D%3D?line=2'>3</a>\u001b[0m     optimizer\u001b[39m=\u001b[39moptimizer,\n\u001b[0;32m      <a href='vscode-notebook-cell:/c%3A/Users/brand/Desktop/UCBF22/DSD%20Fall%202022/model_sampling/model_dev.ipynb#X52sZmlsZQ%3D%3D?line=3'>4</a>\u001b[0m     loss\u001b[39m=\u001b[39m\u001b[39m'\u001b[39m\u001b[39mcategorical_crossentropy\u001b[39m\u001b[39m'\u001b[39m,\n\u001b[0;32m      <a href='vscode-notebook-cell:/c%3A/Users/brand/Desktop/UCBF22/DSD%20Fall%202022/model_sampling/model_dev.ipynb#X52sZmlsZQ%3D%3D?line=4'>5</a>\u001b[0m     metrics\u001b[39m=\u001b[39m[\u001b[39m\"\u001b[39m\u001b[39maccuracy\u001b[39m\u001b[39m\"\u001b[39m, F1Score(\u001b[39m1\u001b[39m, average \u001b[39m=\u001b[39m \u001b[39m\"\u001b[39m\u001b[39mweighted\u001b[39m\u001b[39m\"\u001b[39m)]\n\u001b[0;32m      <a href='vscode-notebook-cell:/c%3A/Users/brand/Desktop/UCBF22/DSD%20Fall%202022/model_sampling/model_dev.ipynb#X52sZmlsZQ%3D%3D?line=5'>6</a>\u001b[0m )\n\u001b[1;32m----> <a href='vscode-notebook-cell:/c%3A/Users/brand/Desktop/UCBF22/DSD%20Fall%202022/model_sampling/model_dev.ipynb#X52sZmlsZQ%3D%3D?line=6'>7</a>\u001b[0m history \u001b[39m=\u001b[39m classifier_model\u001b[39m.\u001b[39;49mfit(\n\u001b[0;32m      <a href='vscode-notebook-cell:/c%3A/Users/brand/Desktop/UCBF22/DSD%20Fall%202022/model_sampling/model_dev.ipynb#X52sZmlsZQ%3D%3D?line=7'>8</a>\u001b[0m     train_dataset,\n\u001b[0;32m      <a href='vscode-notebook-cell:/c%3A/Users/brand/Desktop/UCBF22/DSD%20Fall%202022/model_sampling/model_dev.ipynb#X52sZmlsZQ%3D%3D?line=8'>9</a>\u001b[0m     validation_data\u001b[39m=\u001b[39;49mval_dataset,\n\u001b[0;32m     <a href='vscode-notebook-cell:/c%3A/Users/brand/Desktop/UCBF22/DSD%20Fall%202022/model_sampling/model_dev.ipynb#X52sZmlsZQ%3D%3D?line=9'>10</a>\u001b[0m     epochs\u001b[39m=\u001b[39;49mepochs\n\u001b[0;32m     <a href='vscode-notebook-cell:/c%3A/Users/brand/Desktop/UCBF22/DSD%20Fall%202022/model_sampling/model_dev.ipynb#X52sZmlsZQ%3D%3D?line=10'>11</a>\u001b[0m )\n",
      "File \u001b[1;32m~\\AppData\\Local\\Packages\\PythonSoftwareFoundation.Python.3.10_qbz5n2kfra8p0\\LocalCache\\local-packages\\Python310\\site-packages\\keras\\utils\\traceback_utils.py:64\u001b[0m, in \u001b[0;36mfilter_traceback.<locals>.error_handler\u001b[1;34m(*args, **kwargs)\u001b[0m\n\u001b[0;32m     62\u001b[0m filtered_tb \u001b[39m=\u001b[39m \u001b[39mNone\u001b[39;00m\n\u001b[0;32m     63\u001b[0m \u001b[39mtry\u001b[39;00m:\n\u001b[1;32m---> 64\u001b[0m   \u001b[39mreturn\u001b[39;00m fn(\u001b[39m*\u001b[39margs, \u001b[39m*\u001b[39m\u001b[39m*\u001b[39mkwargs)\n\u001b[0;32m     65\u001b[0m \u001b[39mexcept\u001b[39;00m \u001b[39mException\u001b[39;00m \u001b[39mas\u001b[39;00m e:  \u001b[39m# pylint: disable=broad-except\u001b[39;00m\n\u001b[0;32m     66\u001b[0m   filtered_tb \u001b[39m=\u001b[39m _process_traceback_frames(e\u001b[39m.\u001b[39m__traceback__)\n",
      "File \u001b[1;32m~\\AppData\\Local\\Packages\\PythonSoftwareFoundation.Python.3.10_qbz5n2kfra8p0\\LocalCache\\local-packages\\Python310\\site-packages\\keras\\engine\\training.py:1384\u001b[0m, in \u001b[0;36mModel.fit\u001b[1;34m(self, x, y, batch_size, epochs, verbose, callbacks, validation_split, validation_data, shuffle, class_weight, sample_weight, initial_epoch, steps_per_epoch, validation_steps, validation_batch_size, validation_freq, max_queue_size, workers, use_multiprocessing)\u001b[0m\n\u001b[0;32m   1377\u001b[0m \u001b[39mwith\u001b[39;00m tf\u001b[39m.\u001b[39mprofiler\u001b[39m.\u001b[39mexperimental\u001b[39m.\u001b[39mTrace(\n\u001b[0;32m   1378\u001b[0m     \u001b[39m'\u001b[39m\u001b[39mtrain\u001b[39m\u001b[39m'\u001b[39m,\n\u001b[0;32m   1379\u001b[0m     epoch_num\u001b[39m=\u001b[39mepoch,\n\u001b[0;32m   1380\u001b[0m     step_num\u001b[39m=\u001b[39mstep,\n\u001b[0;32m   1381\u001b[0m     batch_size\u001b[39m=\u001b[39mbatch_size,\n\u001b[0;32m   1382\u001b[0m     _r\u001b[39m=\u001b[39m\u001b[39m1\u001b[39m):\n\u001b[0;32m   1383\u001b[0m   callbacks\u001b[39m.\u001b[39mon_train_batch_begin(step)\n\u001b[1;32m-> 1384\u001b[0m   tmp_logs \u001b[39m=\u001b[39m \u001b[39mself\u001b[39;49m\u001b[39m.\u001b[39;49mtrain_function(iterator)\n\u001b[0;32m   1385\u001b[0m   \u001b[39mif\u001b[39;00m data_handler\u001b[39m.\u001b[39mshould_sync:\n\u001b[0;32m   1386\u001b[0m     context\u001b[39m.\u001b[39masync_wait()\n",
      "File \u001b[1;32m~\\AppData\\Local\\Packages\\PythonSoftwareFoundation.Python.3.10_qbz5n2kfra8p0\\LocalCache\\local-packages\\Python310\\site-packages\\tensorflow\\python\\util\\traceback_utils.py:150\u001b[0m, in \u001b[0;36mfilter_traceback.<locals>.error_handler\u001b[1;34m(*args, **kwargs)\u001b[0m\n\u001b[0;32m    148\u001b[0m filtered_tb \u001b[39m=\u001b[39m \u001b[39mNone\u001b[39;00m\n\u001b[0;32m    149\u001b[0m \u001b[39mtry\u001b[39;00m:\n\u001b[1;32m--> 150\u001b[0m   \u001b[39mreturn\u001b[39;00m fn(\u001b[39m*\u001b[39margs, \u001b[39m*\u001b[39m\u001b[39m*\u001b[39mkwargs)\n\u001b[0;32m    151\u001b[0m \u001b[39mexcept\u001b[39;00m \u001b[39mException\u001b[39;00m \u001b[39mas\u001b[39;00m e:\n\u001b[0;32m    152\u001b[0m   filtered_tb \u001b[39m=\u001b[39m _process_traceback_frames(e\u001b[39m.\u001b[39m__traceback__)\n",
      "File \u001b[1;32m~\\AppData\\Local\\Packages\\PythonSoftwareFoundation.Python.3.10_qbz5n2kfra8p0\\LocalCache\\local-packages\\Python310\\site-packages\\tensorflow\\python\\eager\\def_function.py:915\u001b[0m, in \u001b[0;36mFunction.__call__\u001b[1;34m(self, *args, **kwds)\u001b[0m\n\u001b[0;32m    912\u001b[0m compiler \u001b[39m=\u001b[39m \u001b[39m\"\u001b[39m\u001b[39mxla\u001b[39m\u001b[39m\"\u001b[39m \u001b[39mif\u001b[39;00m \u001b[39mself\u001b[39m\u001b[39m.\u001b[39m_jit_compile \u001b[39melse\u001b[39;00m \u001b[39m\"\u001b[39m\u001b[39mnonXla\u001b[39m\u001b[39m\"\u001b[39m\n\u001b[0;32m    914\u001b[0m \u001b[39mwith\u001b[39;00m OptionalXlaContext(\u001b[39mself\u001b[39m\u001b[39m.\u001b[39m_jit_compile):\n\u001b[1;32m--> 915\u001b[0m   result \u001b[39m=\u001b[39m \u001b[39mself\u001b[39m\u001b[39m.\u001b[39m_call(\u001b[39m*\u001b[39margs, \u001b[39m*\u001b[39m\u001b[39m*\u001b[39mkwds)\n\u001b[0;32m    917\u001b[0m new_tracing_count \u001b[39m=\u001b[39m \u001b[39mself\u001b[39m\u001b[39m.\u001b[39mexperimental_get_tracing_count()\n\u001b[0;32m    918\u001b[0m without_tracing \u001b[39m=\u001b[39m (tracing_count \u001b[39m==\u001b[39m new_tracing_count)\n",
      "File \u001b[1;32m~\\AppData\\Local\\Packages\\PythonSoftwareFoundation.Python.3.10_qbz5n2kfra8p0\\LocalCache\\local-packages\\Python310\\site-packages\\tensorflow\\python\\eager\\def_function.py:947\u001b[0m, in \u001b[0;36mFunction._call\u001b[1;34m(self, *args, **kwds)\u001b[0m\n\u001b[0;32m    944\u001b[0m   \u001b[39mself\u001b[39m\u001b[39m.\u001b[39m_lock\u001b[39m.\u001b[39mrelease()\n\u001b[0;32m    945\u001b[0m   \u001b[39m# In this case we have created variables on the first call, so we run the\u001b[39;00m\n\u001b[0;32m    946\u001b[0m   \u001b[39m# defunned version which is guaranteed to never create variables.\u001b[39;00m\n\u001b[1;32m--> 947\u001b[0m   \u001b[39mreturn\u001b[39;00m \u001b[39mself\u001b[39m\u001b[39m.\u001b[39m_stateless_fn(\u001b[39m*\u001b[39margs, \u001b[39m*\u001b[39m\u001b[39m*\u001b[39mkwds)  \u001b[39m# pylint: disable=not-callable\u001b[39;00m\n\u001b[0;32m    948\u001b[0m \u001b[39melif\u001b[39;00m \u001b[39mself\u001b[39m\u001b[39m.\u001b[39m_stateful_fn \u001b[39mis\u001b[39;00m \u001b[39mnot\u001b[39;00m \u001b[39mNone\u001b[39;00m:\n\u001b[0;32m    949\u001b[0m   \u001b[39m# Release the lock early so that multiple threads can perform the call\u001b[39;00m\n\u001b[0;32m    950\u001b[0m   \u001b[39m# in parallel.\u001b[39;00m\n\u001b[0;32m    951\u001b[0m   \u001b[39mself\u001b[39m\u001b[39m.\u001b[39m_lock\u001b[39m.\u001b[39mrelease()\n",
      "File \u001b[1;32m~\\AppData\\Local\\Packages\\PythonSoftwareFoundation.Python.3.10_qbz5n2kfra8p0\\LocalCache\\local-packages\\Python310\\site-packages\\tensorflow\\python\\eager\\function.py:2956\u001b[0m, in \u001b[0;36mFunction.__call__\u001b[1;34m(self, *args, **kwargs)\u001b[0m\n\u001b[0;32m   2953\u001b[0m \u001b[39mwith\u001b[39;00m \u001b[39mself\u001b[39m\u001b[39m.\u001b[39m_lock:\n\u001b[0;32m   2954\u001b[0m   (graph_function,\n\u001b[0;32m   2955\u001b[0m    filtered_flat_args) \u001b[39m=\u001b[39m \u001b[39mself\u001b[39m\u001b[39m.\u001b[39m_maybe_define_function(args, kwargs)\n\u001b[1;32m-> 2956\u001b[0m \u001b[39mreturn\u001b[39;00m graph_function\u001b[39m.\u001b[39;49m_call_flat(\n\u001b[0;32m   2957\u001b[0m     filtered_flat_args, captured_inputs\u001b[39m=\u001b[39;49mgraph_function\u001b[39m.\u001b[39;49mcaptured_inputs)\n",
      "File \u001b[1;32m~\\AppData\\Local\\Packages\\PythonSoftwareFoundation.Python.3.10_qbz5n2kfra8p0\\LocalCache\\local-packages\\Python310\\site-packages\\tensorflow\\python\\eager\\function.py:1853\u001b[0m, in \u001b[0;36mConcreteFunction._call_flat\u001b[1;34m(self, args, captured_inputs, cancellation_manager)\u001b[0m\n\u001b[0;32m   1849\u001b[0m possible_gradient_type \u001b[39m=\u001b[39m gradients_util\u001b[39m.\u001b[39mPossibleTapeGradientTypes(args)\n\u001b[0;32m   1850\u001b[0m \u001b[39mif\u001b[39;00m (possible_gradient_type \u001b[39m==\u001b[39m gradients_util\u001b[39m.\u001b[39mPOSSIBLE_GRADIENT_TYPES_NONE\n\u001b[0;32m   1851\u001b[0m     \u001b[39mand\u001b[39;00m executing_eagerly):\n\u001b[0;32m   1852\u001b[0m   \u001b[39m# No tape is watching; skip to running the function.\u001b[39;00m\n\u001b[1;32m-> 1853\u001b[0m   \u001b[39mreturn\u001b[39;00m \u001b[39mself\u001b[39m\u001b[39m.\u001b[39m_build_call_outputs(\u001b[39mself\u001b[39;49m\u001b[39m.\u001b[39;49m_inference_function\u001b[39m.\u001b[39;49mcall(\n\u001b[0;32m   1854\u001b[0m       ctx, args, cancellation_manager\u001b[39m=\u001b[39;49mcancellation_manager))\n\u001b[0;32m   1855\u001b[0m forward_backward \u001b[39m=\u001b[39m \u001b[39mself\u001b[39m\u001b[39m.\u001b[39m_select_forward_and_backward_functions(\n\u001b[0;32m   1856\u001b[0m     args,\n\u001b[0;32m   1857\u001b[0m     possible_gradient_type,\n\u001b[0;32m   1858\u001b[0m     executing_eagerly)\n\u001b[0;32m   1859\u001b[0m forward_function, args_with_tangents \u001b[39m=\u001b[39m forward_backward\u001b[39m.\u001b[39mforward()\n",
      "File \u001b[1;32m~\\AppData\\Local\\Packages\\PythonSoftwareFoundation.Python.3.10_qbz5n2kfra8p0\\LocalCache\\local-packages\\Python310\\site-packages\\tensorflow\\python\\eager\\function.py:499\u001b[0m, in \u001b[0;36m_EagerDefinedFunction.call\u001b[1;34m(self, ctx, args, cancellation_manager)\u001b[0m\n\u001b[0;32m    497\u001b[0m \u001b[39mwith\u001b[39;00m _InterpolateFunctionError(\u001b[39mself\u001b[39m):\n\u001b[0;32m    498\u001b[0m   \u001b[39mif\u001b[39;00m cancellation_manager \u001b[39mis\u001b[39;00m \u001b[39mNone\u001b[39;00m:\n\u001b[1;32m--> 499\u001b[0m     outputs \u001b[39m=\u001b[39m execute\u001b[39m.\u001b[39;49mexecute(\n\u001b[0;32m    500\u001b[0m         \u001b[39mstr\u001b[39;49m(\u001b[39mself\u001b[39;49m\u001b[39m.\u001b[39;49msignature\u001b[39m.\u001b[39;49mname),\n\u001b[0;32m    501\u001b[0m         num_outputs\u001b[39m=\u001b[39;49m\u001b[39mself\u001b[39;49m\u001b[39m.\u001b[39;49m_num_outputs,\n\u001b[0;32m    502\u001b[0m         inputs\u001b[39m=\u001b[39;49margs,\n\u001b[0;32m    503\u001b[0m         attrs\u001b[39m=\u001b[39;49mattrs,\n\u001b[0;32m    504\u001b[0m         ctx\u001b[39m=\u001b[39;49mctx)\n\u001b[0;32m    505\u001b[0m   \u001b[39melse\u001b[39;00m:\n\u001b[0;32m    506\u001b[0m     outputs \u001b[39m=\u001b[39m execute\u001b[39m.\u001b[39mexecute_with_cancellation(\n\u001b[0;32m    507\u001b[0m         \u001b[39mstr\u001b[39m(\u001b[39mself\u001b[39m\u001b[39m.\u001b[39msignature\u001b[39m.\u001b[39mname),\n\u001b[0;32m    508\u001b[0m         num_outputs\u001b[39m=\u001b[39m\u001b[39mself\u001b[39m\u001b[39m.\u001b[39m_num_outputs,\n\u001b[1;32m   (...)\u001b[0m\n\u001b[0;32m    511\u001b[0m         ctx\u001b[39m=\u001b[39mctx,\n\u001b[0;32m    512\u001b[0m         cancellation_manager\u001b[39m=\u001b[39mcancellation_manager)\n",
      "File \u001b[1;32m~\\AppData\\Local\\Packages\\PythonSoftwareFoundation.Python.3.10_qbz5n2kfra8p0\\LocalCache\\local-packages\\Python310\\site-packages\\tensorflow\\python\\eager\\execute.py:54\u001b[0m, in \u001b[0;36mquick_execute\u001b[1;34m(op_name, num_outputs, inputs, attrs, ctx, name)\u001b[0m\n\u001b[0;32m     52\u001b[0m \u001b[39mtry\u001b[39;00m:\n\u001b[0;32m     53\u001b[0m   ctx\u001b[39m.\u001b[39mensure_initialized()\n\u001b[1;32m---> 54\u001b[0m   tensors \u001b[39m=\u001b[39m pywrap_tfe\u001b[39m.\u001b[39;49mTFE_Py_Execute(ctx\u001b[39m.\u001b[39;49m_handle, device_name, op_name,\n\u001b[0;32m     55\u001b[0m                                       inputs, attrs, num_outputs)\n\u001b[0;32m     56\u001b[0m \u001b[39mexcept\u001b[39;00m core\u001b[39m.\u001b[39m_NotOkStatusException \u001b[39mas\u001b[39;00m e:\n\u001b[0;32m     57\u001b[0m   \u001b[39mif\u001b[39;00m name \u001b[39mis\u001b[39;00m \u001b[39mnot\u001b[39;00m \u001b[39mNone\u001b[39;00m:\n",
      "\u001b[1;31mKeyboardInterrupt\u001b[0m: "
     ]
    }
   ],
   "source": [
    "classifier_model = build_classifier_model()\n",
    "classifier_model.compile(\n",
    "    optimizer=optimizer,\n",
    "    loss=\"categorical_crossentropy\",\n",
    "    metrics=[\"accuracy\", F1Score(1, average=\"weighted\")],\n",
    ")\n",
    "history = classifier_model.fit(\n",
    "    train_dataset, validation_data=val_dataset, epochs=epochs\n",
    ")"
   ]
  },
  {
   "cell_type": "markdown",
   "metadata": {},
   "source": [
    "## Model Performance Evaluation"
   ]
  },
  {
   "cell_type": "code",
   "execution_count": 290,
   "metadata": {},
   "outputs": [],
   "source": [
    "import seaborn as sns\n",
    "import matplotlib.pyplot as plt\n",
    "from matplotlib.lines import Line2D"
   ]
  },
  {
   "cell_type": "markdown",
   "metadata": {},
   "source": [
    "### General Operations"
   ]
  },
  {
   "cell_type": "code",
   "execution_count": 230,
   "metadata": {},
   "outputs": [],
   "source": [
    "def generate_datasets():\n",
    "    model_dataset = pd.DataFrame()\n",
    "    dataset_counts = (\n",
    "        dataset.groupby(\"General Typing\")[[\"url\"]].count().reset_index()[\"url\"]\n",
    "    )\n",
    "    license_dict = {\n",
    "        \"by\": 0,\n",
    "        \"by-nc\": 1,\n",
    "        \"by-nc-nd\": 2,\n",
    "        \"by-nc-sa\": 3,\n",
    "        \"by-nd\": 4,\n",
    "        \"by-sa\": 5,\n",
    "        \"publicdomain\": 6,\n",
    "    }\n",
    "\n",
    "    model_dataset[\"train_text\"], model_dataset[\"General Typing\"] = (\n",
    "        dataset[\"cleaned_contents\"],\n",
    "        dataset[\"General Typing\"],\n",
    "    )\n",
    "    model_dataset[\"General Typing\"].replace(license_dict, inplace=True)\n",
    "\n",
    "    training_set, test_set = train_test_split(\n",
    "        model_dataset, test_size=0.2, random_state=10\n",
    "    )\n",
    "    Y_train = training_set[\"General Typing\"].values\n",
    "    Y_test = test_set[\"General Typing\"].values\n",
    "    X_train, X_test, svd_X_train, svd_X_test = extract_text_features_tfidf(\n",
    "        training_set, test_set\n",
    "    )\n",
    "    smote_strat = {\n",
    "        k: int(\n",
    "            0.8\n",
    "            * min(\n",
    "                round(np.mean(dataset_counts.values)),\n",
    "                dataset_counts.iloc[k] * 1.8,\n",
    "            )\n",
    "        )\n",
    "        for k in range(1, 7)\n",
    "    }\n",
    "    svd_Y_train = Y_train.copy()\n",
    "\n",
    "    smote = SMOTE(sampling_strategy=smote_strat)\n",
    "    X_train, Y_train = smote.fit_resample(X_train, Y_train)\n",
    "    smote_svd = SMOTE(sampling_strategy=smote_strat)\n",
    "    svd_X_train, svd_Y_train = smote_svd.fit_resample(svd_X_train, svd_Y_train)\n",
    "    return (\n",
    "        X_train,\n",
    "        Y_train,\n",
    "        svd_X_train,\n",
    "        svd_Y_train,\n",
    "        X_test,\n",
    "        Y_test,\n",
    "        svd_X_test,\n",
    "    )"
   ]
  },
  {
   "cell_type": "code",
   "execution_count": 249,
   "metadata": {},
   "outputs": [],
   "source": [
    "def get_n_accuracies(model, num_iter=100, svd=False):\n",
    "    training_accuracies = []\n",
    "    testing_accuracies = []\n",
    "    for _ in range(num_iter):\n",
    "        (\n",
    "            X_train,\n",
    "            Y_train,\n",
    "            svd_X_train,\n",
    "            svd_Y_train,\n",
    "            X_test,\n",
    "            Y_test,\n",
    "            svd_X_test,\n",
    "        ) = generate_datasets()\n",
    "        if svd:\n",
    "            X_train = svd_X_train\n",
    "            Y_train = svd_Y_train\n",
    "            X_test = svd_X_test\n",
    "        cur_model = model.fit(X_train, Y_train)\n",
    "        training_accuracies.append(\n",
    "            [\n",
    "                top_k_accuracy_score(\n",
    "                    Y_train, cur_model.predict_proba(X_train), k=i\n",
    "                )\n",
    "                for i in range(1, 4)\n",
    "            ]\n",
    "        )\n",
    "        testing_accuracies.append(\n",
    "            [\n",
    "                top_k_accuracy_score(\n",
    "                    Y_test, cur_model.predict_proba(X_test), k=i\n",
    "                )\n",
    "                for i in range(1, 4)\n",
    "            ]\n",
    "        )\n",
    "        if _ % 25 == 24:\n",
    "            print(f\"DEBUG, {str(model)} has finished {_ + 1} measurements\")\n",
    "    return training_accuracies, testing_accuracies\n",
    "\n",
    "\n",
    "def conf_interval(arr, conf=0.95):\n",
    "    conf_pad = (1 - conf) * 0.5\n",
    "    return (np.percentile(arr, conf_pad), np.percentile(arr, 1 - conf_pad))"
   ]
  },
  {
   "cell_type": "markdown",
   "metadata": {},
   "source": [
    "1. Get all models' 100 trial results\n",
    "2. From 100 trial results, plot model specific situations and comparisons on each level of top k."
   ]
  },
  {
   "cell_type": "code",
   "execution_count": 250,
   "metadata": {},
   "outputs": [],
   "source": [
    "model_dict = {\n",
    "    \"Logistic Regression\": LogisticRegression(\n",
    "        penalty=\"l2\", solver=\"liblinear\", class_weight=\"balanced\", C=0.1\n",
    "    ),\n",
    "    \"Support Vector Machine\": SVC(\n",
    "        C=0.5,\n",
    "        probability=True,\n",
    "        kernel=\"poly\",\n",
    "        degree=1,\n",
    "        class_weight=\"balanced\",\n",
    "    ),\n",
    "    \"Multinomial Naive Bayes\": MultinomialNB(fit_prior=True, alpha=10),\n",
    "    \"Random Forest (Ensemble)\": RandomForestClassifier(\n",
    "        class_weight=\"balanced_subsample\", n_estimators=100, random_state=1\n",
    "    ),\n",
    "    \"Gradient Boost (Ensemble)\": GradientBoostingClassifier(\n",
    "        n_estimators=50, random_state=1\n",
    "    ),\n",
    "}"
   ]
  },
  {
   "cell_type": "code",
   "execution_count": 251,
   "metadata": {},
   "outputs": [
    {
     "name": "stdout",
     "output_type": "stream",
     "text": [
      "DEBUG, LogisticRegression(C=0.1, class_weight='balanced', solver='liblinear') has finished 25 measurements\n",
      "DEBUG, LogisticRegression(C=0.1, class_weight='balanced', solver='liblinear') has finished 50 measurements\n",
      "DEBUG, LogisticRegression(C=0.1, class_weight='balanced', solver='liblinear') has finished 75 measurements\n",
      "DEBUG, LogisticRegression(C=0.1, class_weight='balanced', solver='liblinear') has finished 100 measurements\n",
      "DEBUG, SVC(C=0.5, class_weight='balanced', degree=1, kernel='poly', probability=True) has finished 25 measurements\n",
      "DEBUG, SVC(C=0.5, class_weight='balanced', degree=1, kernel='poly', probability=True) has finished 50 measurements\n",
      "DEBUG, SVC(C=0.5, class_weight='balanced', degree=1, kernel='poly', probability=True) has finished 75 measurements\n",
      "DEBUG, SVC(C=0.5, class_weight='balanced', degree=1, kernel='poly', probability=True) has finished 100 measurements\n",
      "DEBUG, MultinomialNB(alpha=10) has finished 25 measurements\n",
      "DEBUG, MultinomialNB(alpha=10) has finished 50 measurements\n",
      "DEBUG, MultinomialNB(alpha=10) has finished 75 measurements\n",
      "DEBUG, MultinomialNB(alpha=10) has finished 100 measurements\n",
      "DEBUG, RandomForestClassifier(class_weight='balanced_subsample', random_state=1) has finished 25 measurements\n",
      "DEBUG, RandomForestClassifier(class_weight='balanced_subsample', random_state=1) has finished 50 measurements\n",
      "DEBUG, RandomForestClassifier(class_weight='balanced_subsample', random_state=1) has finished 75 measurements\n",
      "DEBUG, RandomForestClassifier(class_weight='balanced_subsample', random_state=1) has finished 100 measurements\n",
      "DEBUG, GradientBoostingClassifier(n_estimators=50, random_state=1) has finished 25 measurements\n",
      "DEBUG, GradientBoostingClassifier(n_estimators=50, random_state=1) has finished 50 measurements\n",
      "DEBUG, GradientBoostingClassifier(n_estimators=50, random_state=1) has finished 75 measurements\n",
      "DEBUG, GradientBoostingClassifier(n_estimators=50, random_state=1) has finished 100 measurements\n"
     ]
    }
   ],
   "source": [
    "model_train_accs = {k: [] for k in model_dict}\n",
    "model_test_accs = {k: [] for k in model_dict}\n",
    "for k in model_dict:\n",
    "    if k == \"Support Vector Machine\":\n",
    "        accuracy_measurements = get_n_accuracies(model_dict[k], svd=True)\n",
    "    else:\n",
    "        accuracy_measurements = get_n_accuracies(model_dict[k])\n",
    "    model_train_accs[k] = accuracy_measurements[0]\n",
    "    model_test_accs[k] = accuracy_measurements[1]"
   ]
  },
  {
   "cell_type": "code",
   "execution_count": 252,
   "metadata": {},
   "outputs": [],
   "source": [
    "def create_accuracy_frame(acc_arr):\n",
    "    cols = {\"k = 1\": [], \"k = 2\": [], \"k = 3\": []}\n",
    "    for row in acc_arr:\n",
    "        cols[\"k = 1\"].append(row[0])\n",
    "        cols[\"k = 2\"].append(row[1])\n",
    "        cols[\"k = 3\"].append(row[2])\n",
    "    return pd.DataFrame(cols)"
   ]
  },
  {
   "cell_type": "code",
   "execution_count": 260,
   "metadata": {},
   "outputs": [],
   "source": [
    "train_accuracy_frames = {\n",
    "    k: [create_accuracy_frame(model_train_accs[k])] for k in model_train_accs\n",
    "}\n",
    "test_accuracy_frames = {\n",
    "    k: [create_accuracy_frame(model_test_accs[k])] for k in model_test_accs\n",
    "}"
   ]
  },
  {
   "cell_type": "code",
   "execution_count": 262,
   "metadata": {},
   "outputs": [
    {
     "data": {
      "text/plain": [
       "[       k = 1     k = 2     k = 3\n",
       " 0   0.588148  0.853333  0.940741\n",
       " 1   0.585926  0.857037  0.940741\n",
       " 2   0.588148  0.865926  0.940741\n",
       " 3   0.597778  0.859259  0.945185\n",
       " 4   0.570370  0.857778  0.945926\n",
       " ..       ...       ...       ...\n",
       " 95  0.577037  0.849630  0.952593\n",
       " 96  0.585185  0.847407  0.940000\n",
       " 97  0.588148  0.851852  0.937778\n",
       " 98  0.600741  0.857037  0.940000\n",
       " 99  0.591852  0.845185  0.943704\n",
       " \n",
       " [100 rows x 3 columns]]"
      ]
     },
     "execution_count": 262,
     "metadata": {},
     "output_type": "execute_result"
    }
   ],
   "source": [
    "train_accuracy_frames[\"Logistic Regression\"]"
   ]
  },
  {
   "cell_type": "markdown",
   "metadata": {},
   "source": [
    "### Visualizing Performances"
   ]
  },
  {
   "cell_type": "code",
   "execution_count": 321,
   "metadata": {},
   "outputs": [
    {
     "data": {
      "image/png": "[encoded data removed]",
      "text/plain": [
       "<Figure size 1800x720 with 5 Axes>"
      ]
     },
     "metadata": {},
     "output_type": "display_data"
    }
   ],
   "source": [
    "subplot_num = 0\n",
    "\n",
    "plt.rcParams[\"figure.facecolor\"] = \"white\"\n",
    "fig, axs = plt.subplots(1, 5, figsize=(25, 10))\n",
    "for k in train_accuracy_frames:\n",
    "    sns.boxplot(\n",
    "        train_accuracy_frames[k][0][\"k = 1\"],\n",
    "        ax=axs[subplot_num],\n",
    "        color=\"red\",\n",
    "        labels=[\"k = 1\"],\n",
    "    )\n",
    "    sns.boxplot(\n",
    "        train_accuracy_frames[k][0][\"k = 2\"],\n",
    "        ax=axs[subplot_num],\n",
    "        color=\"green\",\n",
    "        labels=[\"k = 2\"],\n",
    "    )\n",
    "    sns.boxplot(\n",
    "        train_accuracy_frames[k][0][\"k = 3\"],\n",
    "        ax=axs[subplot_num],\n",
    "        color=\"blue\",\n",
    "        labels=[\"k = 3\"],\n",
    "    )\n",
    "    axs[subplot_num].set_title(f\"Model: {k}\")\n",
    "    subplot_num += 1\n",
    "legend_elements = [\n",
    "    Line2D([0], [0], color=\"red\", lw=4, label=\"k = 1\"),\n",
    "    Line2D([0], [0], color=\"green\", lw=4, label=\"k = 2\"),\n",
    "    Line2D([0], [0], color=\"blue\", lw=4, label=\"k = 3\"),\n",
    "]\n",
    "plt.suptitle(\"Training Performances across Models by Top-k Accuracy\")\n",
    "plt.legend(\n",
    "    handles=legend_elements, loc=\"upper right\", bbox_to_anchor=(1.35, 1)\n",
    ")\n",
    "\n",
    "plt.rcParams[\"figure.facecolor\"] = \"white\""
   ]
  },
  {
   "cell_type": "code",
   "execution_count": 323,
   "metadata": {},
   "outputs": [
    {
     "data": {
      "image/png": "[encoded data removed]",
      "text/plain": [
       "<Figure size 1800x720 with 5 Axes>"
      ]
     },
     "metadata": {},
     "output_type": "display_data"
    }
   ],
   "source": [
    "subplot_num = 0\n",
    "\n",
    "plt.rcParams[\"figure.facecolor\"] = \"white\"\n",
    "fig, axs = plt.subplots(1, 5, figsize=(25, 10))\n",
    "for k in test_accuracy_frames:\n",
    "    sns.boxplot(\n",
    "        test_accuracy_frames[k][0][\"k = 1\"],\n",
    "        ax=axs[subplot_num],\n",
    "        color=\"red\",\n",
    "        labels=[\"k = 1\"],\n",
    "    )\n",
    "    sns.boxplot(\n",
    "        test_accuracy_frames[k][0][\"k = 2\"],\n",
    "        ax=axs[subplot_num],\n",
    "        color=\"green\",\n",
    "        labels=[\"k = 2\"],\n",
    "    )\n",
    "    sns.boxplot(\n",
    "        test_accuracy_frames[k][0][\"k = 3\"],\n",
    "        ax=axs[subplot_num],\n",
    "        color=\"blue\",\n",
    "        labels=[\"k = 3\"],\n",
    "    )\n",
    "    axs[subplot_num].set_title(f\"Model: {k}\")\n",
    "    subplot_num += 1\n",
    "legend_elements = [\n",
    "    Line2D([0], [0], color=\"red\", lw=4, label=\"k = 1\"),\n",
    "    Line2D([0], [0], color=\"green\", lw=4, label=\"k = 2\"),\n",
    "    Line2D([0], [0], color=\"blue\", lw=4, label=\"k = 3\"),\n",
    "]\n",
    "plt.suptitle(\"Testing Performances across Models by Top-k Accuracy\")\n",
    "plt.legend(\n",
    "    handles=legend_elements, loc=\"upper right\", bbox_to_anchor=(1.35, 1)\n",
    ")\n",
    "\n",
    "plt.rcParams[\"figure.facecolor\"] = \"white\""
   ]
  },
  {
   "cell_type": "code",
   "execution_count": 327,
   "metadata": {},
   "outputs": [],
   "source": [
    "import os\n",
    "\n",
    "CWD = os.getcwd()"
   ]
  },
  {
   "cell_type": "code",
   "execution_count": 329,
   "metadata": {},
   "outputs": [],
   "source": [
    "for k in train_accuracy_frames:\n",
    "    train_accuracy_frames[k][0].describe().to_csv(\n",
    "        f\"{CWD}/model_results/train/{k.replace(' ', '')}.csv\"\n",
    "    )"
   ]
  },
  {
   "cell_type": "code",
   "execution_count": 330,
   "metadata": {},
   "outputs": [],
   "source": [
    "for k in test_accuracy_frames:\n",
    "    test_accuracy_frames[k][0].describe().to_csv(\n",
    "        f\"{CWD}/model_results/test/{k.replace(' ', '')}.csv\"\n",
    "    )"
   ]
  }
 ],
 "metadata": {
  "kernelspec": {
   "display_name": "Python 3.10.8 64-bit (microsoft store)",
   "language": "python",
   "name": "python3"
  },
  "language_info": {
   "codemirror_mode": {
    "name": "ipython",
    "version": 3
   },
   "file_extension": ".py",
   "mimetype": "text/x-python",
   "name": "python",
   "nbconvert_exporter": "python",
   "pygments_lexer": "ipython3",
   "version": "3.10.8"
  },
  "orig_nbformat": 4,
  "vscode": {
   "interpreter": {
    "hash": "dd98d7e735064cd82a69955e27f6d0d35e8c81af503a9f702e870f7c3b7bf96a"
   }
  }
 },
 "nbformat": 4,
 "nbformat_minor": 2
}
